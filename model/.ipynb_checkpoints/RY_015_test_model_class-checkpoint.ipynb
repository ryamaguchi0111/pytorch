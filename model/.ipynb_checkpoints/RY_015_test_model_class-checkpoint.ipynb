{
 "cells": [
  {
   "cell_type": "markdown",
   "metadata": {},
   "source": [
    "# 作成したモデルの動作確認"
   ]
  },
  {
   "cell_type": "markdown",
   "metadata": {},
   "source": [
    "このNBでは、作成したモデルのクラス (model_ResCNN.py) が動くか確認します。"
   ]
  },
  {
   "cell_type": "markdown",
   "metadata": {},
   "source": [
    "# module import"
   ]
  },
  {
   "cell_type": "code",
   "execution_count": 1,
   "metadata": {},
   "outputs": [],
   "source": [
    "import sys\n",
    "import glob\n",
    "import numpy as np\n",
    "import pandas as pd\n",
    "import matplotlib.pyplot as plt"
   ]
  },
  {
   "cell_type": "code",
   "execution_count": 2,
   "metadata": {},
   "outputs": [],
   "source": [
    "# my module import\n",
    "lib_path = '/work-hmcomm/project/nedo2020_yokogawa/Git/yokogawa_ryamaguchi/nedo2020-yokogawass/script/RY_module/'\n",
    "sys.path.insert(0,lib_path)\n",
    "\n",
    "import model.model_ResCNN"
   ]
  },
  {
   "cell_type": "code",
   "execution_count": 3,
   "metadata": {},
   "outputs": [
    {
     "data": {
      "text/plain": [
       "['/work-hmcomm/project/nedo2020_yokogawa/Git/yokogawa_ryamaguchi/nedo2020-yokogawass/script/RY_module/model/',\n",
       " '/work-hmcomm/project/nedo2020_yokogawa/Git/yokogawa_ryamaguchi/nedo2020-yokogawass/script/RY_module/',\n",
       " '/usr/lib/python36.zip',\n",
       " '/usr/lib/python3.6',\n",
       " '/usr/lib/python3.6/lib-dynload',\n",
       " '',\n",
       " '/home/user/.local/lib/python3.6/site-packages',\n",
       " '/usr/local/lib/python3.6/dist-packages',\n",
       " '/usr/lib/python3/dist-packages',\n",
       " '/usr/local/lib/python3.6/dist-packages/IPython/extensions',\n",
       " '/home/user/.ipython']"
      ]
     },
     "execution_count": 3,
     "metadata": {},
     "output_type": "execute_result"
    }
   ],
   "source": [
    "sys.path"
   ]
  },
  {
   "cell_type": "markdown",
   "metadata": {},
   "source": [
    "# image data load\n",
    "軽量の学習・テストデータを生成する。  \n",
    "使用するデータ  \n",
    "学習：Exp:06, location:05, direction:left  \n",
    "テスト:Exp:02,03,04,05, location:05, direction:left"
   ]
  },
  {
   "cell_type": "code",
   "execution_count": 4,
   "metadata": {},
   "outputs": [],
   "source": [
    "data_path = '/work-hmcomm/project/nedo2020_yokogawa/data/PilotPlant_Experiments_2020-0309/feature/extracted_on_2020-04-21_melspectrogram/'\n",
    "data_path = data_path + '*npy'\n",
    "data_path_list = sorted(glob.glob(data_path))"
   ]
  },
  {
   "cell_type": "code",
   "execution_count": 5,
   "metadata": {},
   "outputs": [
    {
     "name": "stdout",
     "output_type": "stream",
     "text": [
      "/work-hmcomm/project/nedo2020_yokogawa/data/PilotPlant_Experiments_2020-0309/feature/extracted_on_2020-04-21_melspectrogram/2020-03-06_7_ZOOM-H06_Exp01_merspectrogram_S200W400Han_left.npy\n",
      "\n",
      "/work-hmcomm/project/nedo2020_yokogawa/data/PilotPlant_Experiments_2020-0309/feature/extracted_on_2020-04-21_melspectrogram/2020-03-06_7_ZOOM-H06_Exp01_merspectrogram_S200W400Han_right.npy\n",
      "\n"
     ]
    }
   ],
   "source": [
    "train_left_path_list = []\n",
    "test_1_left_path_list = []\n",
    "test_2_left_path_list = []\n",
    "test_3_left_path_list = []\n",
    "test_max_left_path_list = []\n",
    "\n",
    "\n",
    "for i in data_path_list:\n",
    "    if not 'Exp01' in i:\n",
    "        if ('left' in i and '_5_' in i):\n",
    "            if 'Exp06' in i:\n",
    "                train_left_path_list.append(i)\n",
    "            elif 'Exp02' in i:\n",
    "                test_1_left_path_list.append(i)\n",
    "            elif 'Exp03' in i:\n",
    "                test_2_left_path_list.append(i)\n",
    "            elif 'Exp04' in i:\n",
    "                test_3_left_path_list.append(i)\n",
    "            elif 'Exp05' in i:\n",
    "                test_max_left_path_list.append(i)\n",
    "    else:\n",
    "        print(f'{i}\\n')"
   ]
  },
  {
   "cell_type": "code",
   "execution_count": 6,
   "metadata": {},
   "outputs": [
    {
     "name": "stdout",
     "output_type": "stream",
     "text": [
      "train data:\n",
      "['/work-hmcomm/project/nedo2020_yokogawa/data/PilotPlant_Experiments_2020-0309/feature/extracted_on_2020-04-21_melspectrogram/2020-03-06_5_ZOOM-H06_Exp06_merspectrogram_S200W400Han_left.npy']\n",
      "\n",
      "test 1m/s data:\n",
      "['/work-hmcomm/project/nedo2020_yokogawa/data/PilotPlant_Experiments_2020-0309/feature/extracted_on_2020-04-21_melspectrogram/2020-03-06_5_ZOOM-H06_Exp02_merspectrogram_S200W400Han_left.npy']\n",
      "\n",
      "test 2m/s data:\n",
      "['/work-hmcomm/project/nedo2020_yokogawa/data/PilotPlant_Experiments_2020-0309/feature/extracted_on_2020-04-21_melspectrogram/2020-03-06_5_ZOOM-H06_Exp03_merspectrogram_S200W400Han_left.npy']\n",
      "\n",
      "test 3m/s data:\n",
      "['/work-hmcomm/project/nedo2020_yokogawa/data/PilotPlant_Experiments_2020-0309/feature/extracted_on_2020-04-21_melspectrogram/2020-03-06_5_ZOOM-H06_Exp04_merspectrogram_S200W400Han_left.npy']\n",
      "\n",
      "test max data:\n",
      "['/work-hmcomm/project/nedo2020_yokogawa/data/PilotPlant_Experiments_2020-0309/feature/extracted_on_2020-04-21_melspectrogram/2020-03-06_5_ZOOM-H06_Exp05_merspectrogram_S200W400Han_left.npy']\n",
      "\n"
     ]
    }
   ],
   "source": [
    "# data 確認\n",
    "print(f'train data:\\n{train_left_path_list}\\n')\n",
    "print(f'test 1m/s data:\\n{test_1_left_path_list}\\n')\n",
    "print(f'test 2m/s data:\\n{test_2_left_path_list}\\n')\n",
    "print(f'test 3m/s data:\\n{test_3_left_path_list}\\n')\n",
    "print(f'test max data:\\n{test_max_left_path_list}\\n')\n"
   ]
  },
  {
   "cell_type": "code",
   "execution_count": 7,
   "metadata": {},
   "outputs": [],
   "source": [
    "train_left_arr_list = [np.load(i) for i in train_left_path_list]\n",
    "test_1_left_arr_list = [np.load(i) for i in test_1_left_path_list]\n",
    "test_2_left_arr_list = [np.load(i) for i in test_2_left_path_list]\n",
    "test_3_left_arr_list = [np.load(i) for i in test_3_left_path_list]\n",
    "test_max_left_arr_list = [np.load(i) for i in test_max_left_path_list]"
   ]
  },
  {
   "cell_type": "code",
   "execution_count": 8,
   "metadata": {},
   "outputs": [
    {
     "name": "stdout",
     "output_type": "stream",
     "text": [
      "train_left_arr_list_size : 1\n",
      "train_left_arr_list_shape : (128, 4105)\n",
      "test_1_left_arr_list_size : 1\n",
      "test_1_left_arr_list_shape : (128, 1655)\n",
      "test_2_left_arr_list_size : 1\n",
      "test_2_left_arr_list_shape : (128, 1498)\n",
      "test_3_left_arr_list_size : 1\n",
      "test_3_left_arr_list_shape : (128, 1498)\n",
      "test_max_left_arr_list_size : 1\n",
      "test_max_left_arr_list_shape : (128, 1498)\n"
     ]
    }
   ],
   "source": [
    "print(f'train_left_arr_list_size : {len(train_left_arr_list)}')\n",
    "print(f'train_left_arr_list_shape : {train_left_arr_list[0].shape}')\n",
    "print(f'test_1_left_arr_list_size : {len(test_1_left_arr_list)}')\n",
    "print(f'test_1_left_arr_list_shape : {test_1_left_arr_list[0].shape}')\n",
    "print(f'test_2_left_arr_list_size : {len(test_2_left_arr_list)}')\n",
    "print(f'test_2_left_arr_list_shape : {test_2_left_arr_list[0].shape}')\n",
    "print(f'test_3_left_arr_list_size : {len(test_3_left_arr_list)}')\n",
    "print(f'test_3_left_arr_list_shape : {test_3_left_arr_list[0].shape}')\n",
    "print(f'test_max_left_arr_list_size : {len(test_max_left_arr_list)}')\n",
    "print(f'test_max_left_arr_list_shape : {test_max_left_arr_list[0].shape}')"
   ]
  },
  {
   "cell_type": "markdown",
   "metadata": {},
   "source": [
    "# flow data load"
   ]
  },
  {
   "cell_type": "code",
   "execution_count": 9,
   "metadata": {},
   "outputs": [],
   "source": [
    "pkl_path = '/work-hmcomm/project/nedo2020_yokogawa/data/PilotPlant_Experiments_2020-0309/feature/'\n",
    "pkl_path = pkl_path + 'fastd-standard-features-complete_left-right-mean_S200msW400msHan_flow_meta-data_labeled_df.pkl'\n",
    "df = pd.read_pickle(pkl_path)"
   ]
  },
  {
   "cell_type": "code",
   "execution_count": 10,
   "metadata": {},
   "outputs": [
    {
     "data": {
      "text/html": [
       "<div>\n",
       "<style scoped>\n",
       "    .dataframe tbody tr th:only-of-type {\n",
       "        vertical-align: middle;\n",
       "    }\n",
       "\n",
       "    .dataframe tbody tr th {\n",
       "        vertical-align: top;\n",
       "    }\n",
       "\n",
       "    .dataframe thead th {\n",
       "        text-align: right;\n",
       "    }\n",
       "</style>\n",
       "<table border=\"1\" class=\"dataframe\">\n",
       "  <thead>\n",
       "    <tr style=\"text-align: right;\">\n",
       "      <th></th>\n",
       "      <th>RecordingID</th>\n",
       "      <th>status</th>\n",
       "      <th>ExperimentID</th>\n",
       "      <th>LocationID</th>\n",
       "      <th>RecorderType</th>\n",
       "      <th>filename_mean</th>\n",
       "      <th>recording_angle_(degrees)</th>\n",
       "      <th>valve-A_state</th>\n",
       "      <th>valve-B_state</th>\n",
       "      <th>flow_speed_(m/s)</th>\n",
       "      <th>mic_configuration</th>\n",
       "      <th>mic_type</th>\n",
       "      <th>sampling_rate</th>\n",
       "      <th>number_of_channels</th>\n",
       "      <th>inventory_id</th>\n",
       "      <th>project_directory_QNAP</th>\n",
       "      <th>file_location</th>\n",
       "      <th>feat_array_mean</th>\n",
       "      <th>flow_array</th>\n",
       "      <th>event_label</th>\n",
       "    </tr>\n",
       "  </thead>\n",
       "  <tbody>\n",
       "    <tr>\n",
       "      <th>0</th>\n",
       "      <td>Exp02_Loc01</td>\n",
       "      <td>good_to_process</td>\n",
       "      <td>Exp02</td>\n",
       "      <td>1</td>\n",
       "      <td>ZOOM-H06</td>\n",
       "      <td>2020-03-06_1_ZOOM-H06_Exp02_fastd-standard-fea...</td>\n",
       "      <td>90</td>\n",
       "      <td>full</td>\n",
       "      <td>variable</td>\n",
       "      <td>1.0</td>\n",
       "      <td>ms</td>\n",
       "      <td>unidirectional</td>\n",
       "      <td>96000</td>\n",
       "      <td>2</td>\n",
       "      <td>HM-0382-01</td>\n",
       "      <td>smb://192.168.1.25/04.r&amp;d/02_project/ASD/Yokog...</td>\n",
       "      <td>PilotPlant_Experiments_2020-0309/Exp02/</td>\n",
       "      <td>[[0.042839657282741736, 36502650.44015271, 3.3...</td>\n",
       "      <td>[1.0778, 1.075, 1.0973, 1.0714, 1.0933, 1.0695...</td>\n",
       "      <td>[0, 0, 0, 0, 0, 0, 0, 0, 0, 0, 0, 0, 0, 0, 0, ...</td>\n",
       "    </tr>\n",
       "    <tr>\n",
       "      <th>1</th>\n",
       "      <td>Exp03_Loc01</td>\n",
       "      <td>good_to_process</td>\n",
       "      <td>Exp03</td>\n",
       "      <td>1</td>\n",
       "      <td>ZOOM-H06</td>\n",
       "      <td>2020-03-06_1_ZOOM-H06_Exp03_fastd-standard-fea...</td>\n",
       "      <td>90</td>\n",
       "      <td>full</td>\n",
       "      <td>variable</td>\n",
       "      <td>2.0</td>\n",
       "      <td>ms</td>\n",
       "      <td>unidirectional</td>\n",
       "      <td>96000</td>\n",
       "      <td>2</td>\n",
       "      <td>HM-0382-01</td>\n",
       "      <td>smb://192.168.1.25/04.r&amp;d/02_project/ASD/Yokog...</td>\n",
       "      <td>PilotPlant_Experiments_2020-0309/Exp03/</td>\n",
       "      <td>[[0.04643350087241855, 53674146.242810965, 3.2...</td>\n",
       "      <td>[2.1021, 2.0853, 2.0981, 2.0353, 1.9595, 2.049...</td>\n",
       "      <td>[0, 0, 0, 0, 0, 0, 0, 0, 0, 0, 0, 0, 0, 0, 0, ...</td>\n",
       "    </tr>\n",
       "    <tr>\n",
       "      <th>2</th>\n",
       "      <td>Exp04_Loc01</td>\n",
       "      <td>good_to_process</td>\n",
       "      <td>Exp04</td>\n",
       "      <td>1</td>\n",
       "      <td>ZOOM-H06</td>\n",
       "      <td>2020-03-06_1_ZOOM-H06_Exp04_fastd-standard-fea...</td>\n",
       "      <td>90</td>\n",
       "      <td>full</td>\n",
       "      <td>variable</td>\n",
       "      <td>3.0</td>\n",
       "      <td>ms</td>\n",
       "      <td>unidirectional</td>\n",
       "      <td>96000</td>\n",
       "      <td>2</td>\n",
       "      <td>HM-0382-01</td>\n",
       "      <td>smb://192.168.1.25/04.r&amp;d/02_project/ASD/Yokog...</td>\n",
       "      <td>PilotPlant_Experiments_2020-0309/Exp04/</td>\n",
       "      <td>[[0.0425531914893617, 63181846.56553409, 3.247...</td>\n",
       "      <td>[3.0088, 2.9945, 2.9986, 2.9945, 2.9921, 2.991...</td>\n",
       "      <td>[0, 0, 0, 0, 0, 0, 0, 0, 0, 0, 0, 0, 0, 0, 0, ...</td>\n",
       "    </tr>\n",
       "    <tr>\n",
       "      <th>3</th>\n",
       "      <td>Exp05_Loc01</td>\n",
       "      <td>good_to_process</td>\n",
       "      <td>Exp05</td>\n",
       "      <td>1</td>\n",
       "      <td>ZOOM-H06</td>\n",
       "      <td>2020-03-06_1_ZOOM-H06_Exp05_fastd-standard-fea...</td>\n",
       "      <td>90</td>\n",
       "      <td>full</td>\n",
       "      <td>variable</td>\n",
       "      <td>3.9</td>\n",
       "      <td>ms</td>\n",
       "      <td>unidirectional</td>\n",
       "      <td>96000</td>\n",
       "      <td>2</td>\n",
       "      <td>HM-0382-01</td>\n",
       "      <td>smb://192.168.1.25/04.r&amp;d/02_project/ASD/Yokog...</td>\n",
       "      <td>PilotPlant_Experiments_2020-0309/Exp05/</td>\n",
       "      <td>[[0.03369879423943332, 91537301.61586623, 3.19...</td>\n",
       "      <td>[3.8522, 3.8384, 3.8360000000000003, 3.9126, 3...</td>\n",
       "      <td>[0, 0, 0, 0, 0, 0, 0, 0, 0, 0, 0, 0, 0, 0, 0, ...</td>\n",
       "    </tr>\n",
       "    <tr>\n",
       "      <th>4</th>\n",
       "      <td>Exp06_Loc01</td>\n",
       "      <td>good_to_process</td>\n",
       "      <td>Exp06</td>\n",
       "      <td>1</td>\n",
       "      <td>ZOOM-H06</td>\n",
       "      <td>2020-03-06_1_ZOOM-H06_Exp06_fastd-standard-fea...</td>\n",
       "      <td>90</td>\n",
       "      <td>full</td>\n",
       "      <td>variable</td>\n",
       "      <td>3.9-1.0</td>\n",
       "      <td>ms</td>\n",
       "      <td>unidirectional</td>\n",
       "      <td>96000</td>\n",
       "      <td>2</td>\n",
       "      <td>HM-0382-01</td>\n",
       "      <td>smb://192.168.1.25/04.r&amp;d/02_project/ASD/Yokog...</td>\n",
       "      <td>PilotPlant_Experiments_2020-0309/Exp06/</td>\n",
       "      <td>[[0.03135498320268757, 117980591.66448013, 3.2...</td>\n",
       "      <td>[3.8037, 3.7438, 3.8389, 3.8169999999999997, 3...</td>\n",
       "      <td>[0, 0, 0, 0, 0, 0, 0, 0, 0, 0, 0, 0, 0, 0, 0, ...</td>\n",
       "    </tr>\n",
       "  </tbody>\n",
       "</table>\n",
       "</div>"
      ],
      "text/plain": [
       "   RecordingID           status ExperimentID LocationID RecorderType  \\\n",
       "0  Exp02_Loc01  good_to_process        Exp02          1     ZOOM-H06   \n",
       "1  Exp03_Loc01  good_to_process        Exp03          1     ZOOM-H06   \n",
       "2  Exp04_Loc01  good_to_process        Exp04          1     ZOOM-H06   \n",
       "3  Exp05_Loc01  good_to_process        Exp05          1     ZOOM-H06   \n",
       "4  Exp06_Loc01  good_to_process        Exp06          1     ZOOM-H06   \n",
       "\n",
       "                                       filename_mean  \\\n",
       "0  2020-03-06_1_ZOOM-H06_Exp02_fastd-standard-fea...   \n",
       "1  2020-03-06_1_ZOOM-H06_Exp03_fastd-standard-fea...   \n",
       "2  2020-03-06_1_ZOOM-H06_Exp04_fastd-standard-fea...   \n",
       "3  2020-03-06_1_ZOOM-H06_Exp05_fastd-standard-fea...   \n",
       "4  2020-03-06_1_ZOOM-H06_Exp06_fastd-standard-fea...   \n",
       "\n",
       "  recording_angle_(degrees) valve-A_state valve-B_state flow_speed_(m/s)  \\\n",
       "0                        90          full      variable              1.0   \n",
       "1                        90          full      variable              2.0   \n",
       "2                        90          full      variable              3.0   \n",
       "3                        90          full      variable              3.9   \n",
       "4                        90          full      variable          3.9-1.0   \n",
       "\n",
       "  mic_configuration        mic_type  sampling_rate  number_of_channels  \\\n",
       "0                ms  unidirectional          96000                   2   \n",
       "1                ms  unidirectional          96000                   2   \n",
       "2                ms  unidirectional          96000                   2   \n",
       "3                ms  unidirectional          96000                   2   \n",
       "4                ms  unidirectional          96000                   2   \n",
       "\n",
       "  inventory_id                             project_directory_QNAP  \\\n",
       "0   HM-0382-01  smb://192.168.1.25/04.r&d/02_project/ASD/Yokog...   \n",
       "1   HM-0382-01  smb://192.168.1.25/04.r&d/02_project/ASD/Yokog...   \n",
       "2   HM-0382-01  smb://192.168.1.25/04.r&d/02_project/ASD/Yokog...   \n",
       "3   HM-0382-01  smb://192.168.1.25/04.r&d/02_project/ASD/Yokog...   \n",
       "4   HM-0382-01  smb://192.168.1.25/04.r&d/02_project/ASD/Yokog...   \n",
       "\n",
       "                             file_location  \\\n",
       "0  PilotPlant_Experiments_2020-0309/Exp02/   \n",
       "1  PilotPlant_Experiments_2020-0309/Exp03/   \n",
       "2  PilotPlant_Experiments_2020-0309/Exp04/   \n",
       "3  PilotPlant_Experiments_2020-0309/Exp05/   \n",
       "4  PilotPlant_Experiments_2020-0309/Exp06/   \n",
       "\n",
       "                                     feat_array_mean  \\\n",
       "0  [[0.042839657282741736, 36502650.44015271, 3.3...   \n",
       "1  [[0.04643350087241855, 53674146.242810965, 3.2...   \n",
       "2  [[0.0425531914893617, 63181846.56553409, 3.247...   \n",
       "3  [[0.03369879423943332, 91537301.61586623, 3.19...   \n",
       "4  [[0.03135498320268757, 117980591.66448013, 3.2...   \n",
       "\n",
       "                                          flow_array  \\\n",
       "0  [1.0778, 1.075, 1.0973, 1.0714, 1.0933, 1.0695...   \n",
       "1  [2.1021, 2.0853, 2.0981, 2.0353, 1.9595, 2.049...   \n",
       "2  [3.0088, 2.9945, 2.9986, 2.9945, 2.9921, 2.991...   \n",
       "3  [3.8522, 3.8384, 3.8360000000000003, 3.9126, 3...   \n",
       "4  [3.8037, 3.7438, 3.8389, 3.8169999999999997, 3...   \n",
       "\n",
       "                                         event_label  \n",
       "0  [0, 0, 0, 0, 0, 0, 0, 0, 0, 0, 0, 0, 0, 0, 0, ...  \n",
       "1  [0, 0, 0, 0, 0, 0, 0, 0, 0, 0, 0, 0, 0, 0, 0, ...  \n",
       "2  [0, 0, 0, 0, 0, 0, 0, 0, 0, 0, 0, 0, 0, 0, 0, ...  \n",
       "3  [0, 0, 0, 0, 0, 0, 0, 0, 0, 0, 0, 0, 0, 0, 0, ...  \n",
       "4  [0, 0, 0, 0, 0, 0, 0, 0, 0, 0, 0, 0, 0, 0, 0, ...  "
      ]
     },
     "execution_count": 10,
     "metadata": {},
     "output_type": "execute_result"
    }
   ],
   "source": [
    "df.head()"
   ]
  },
  {
   "cell_type": "code",
   "execution_count": 11,
   "metadata": {},
   "outputs": [],
   "source": [
    "train_flow_arr_list = [i for i in df['flow_array'][(df['ExperimentID'] == 'Exp06') & (df['LocationID']=='5')]]\n",
    "test_1_flow_arr_list = [i for i in df['flow_array'][(df['ExperimentID'] == 'Exp02') & (df['LocationID']=='5')]]\n",
    "test_2_flow_arr_list = [i for i in df['flow_array'][(df['ExperimentID'] == 'Exp03') & (df['LocationID']=='5')]]\n",
    "test_3_flow_arr_list = [i for i in df['flow_array'][(df['ExperimentID'] == 'Exp04') & (df['LocationID']=='5')]]\n",
    "test_max_flow_arr_list = [i for i in df['flow_array'][(df['ExperimentID'] == 'Exp05') & (df['LocationID']=='5')]]"
   ]
  },
  {
   "cell_type": "code",
   "execution_count": 12,
   "metadata": {},
   "outputs": [
    {
     "name": "stdout",
     "output_type": "stream",
     "text": [
      "train_flow_arr_list size: 1\n",
      "train_flow_arr_list size: (4105,)\n",
      "test_1_flow_arr_list size: 1\n",
      "test_1_flow_arr_list size: (1655,)\n",
      "test_2_flow_arr_list size: 1\n",
      "test_2_flow_arr_list size: (1498,)\n",
      "test_3_flow_arr_list size: 1\n",
      "test_3_flow_arr_list size: (1498,)\n",
      "test_max_flow_arr_list size: 1\n",
      "test_max_flow_arr_list size: (1498,)\n"
     ]
    }
   ],
   "source": [
    "print(f'train_flow_arr_list size: {len(train_flow_arr_list)}')\n",
    "print(f'train_flow_arr_list size: {train_flow_arr_list[0].shape}')\n",
    "print(f'test_1_flow_arr_list size: {len(test_1_flow_arr_list)}')\n",
    "print(f'test_1_flow_arr_list size: {test_1_flow_arr_list[0].shape}')\n",
    "print(f'test_2_flow_arr_list size: {len(test_2_flow_arr_list)}')\n",
    "print(f'test_2_flow_arr_list size: {test_2_flow_arr_list[0].shape}')\n",
    "print(f'test_3_flow_arr_list size: {len(test_3_flow_arr_list)}')\n",
    "print(f'test_3_flow_arr_list size: {test_3_flow_arr_list[0].shape}')\n",
    "print(f'test_max_flow_arr_list size: {len(test_max_flow_arr_list)}')\n",
    "print(f'test_max_flow_arr_list size: {test_max_flow_arr_list[0].shape}')\n"
   ]
  },
  {
   "cell_type": "markdown",
   "metadata": {},
   "source": [
    "---\n",
    "使用するデータたち  \n",
    "- 学習データ   \n",
    "train_left_arr_list  \n",
    "train_flow_arr_list  \n",
    "- テストデータ\n",
    "  - 1m/s  \n",
    "test_1_left_arr_list  \n",
    "test_1_flow_arr_list  \n",
    "  - 2m/s  \n",
    "test_1_left_arr_list  \n",
    "test_1_flow_arr_list  \n",
    "  - 3m/s  \n",
    "test_1_left_arr_list  \n",
    "test_1_flow_arr_list  \n",
    "  - 3.9m/s  \n",
    "test_1_left_arr_list  \n",
    "test_1_flow_arr_list  "
   ]
  },
  {
   "cell_type": "markdown",
   "metadata": {},
   "source": [
    "# class の intance化"
   ]
  },
  {
   "cell_type": "code",
   "execution_count": 13,
   "metadata": {},
   "outputs": [
    {
     "name": "stdout",
     "output_type": "stream",
     "text": [
      "GPU available\n",
      "\n"
     ]
    },
    {
     "name": "stderr",
     "output_type": "stream",
     "text": [
      "/work-hmcomm/project/nedo2020_yokogawa/Git/yokogawa_ryamaguchi/nedo2020-yokogawass/script/RY_module/model/model_ResCNN.py:53: YAMLLoadWarning: calling yaml.load() without Loader=... is deprecated, as the default Loader is unsafe. Please read https://msg.pyyaml.org/load for full details.\n",
      "  data = yaml.load(f)\n"
     ]
    }
   ],
   "source": [
    "model = model.model_ResCNN.model_CNN_Res()"
   ]
  },
  {
   "cell_type": "markdown",
   "metadata": {},
   "source": [
    "# Train"
   ]
  },
  {
   "cell_type": "code",
   "execution_count": 14,
   "metadata": {},
   "outputs": [
    {
     "name": "stdout",
     "output_type": "stream",
     "text": [
      "Completed: [==============================] 100%  5/5 Epoch [1/100], train_loss: 6.4561, valid_loss: 6.1433\n",
      "Saving Model to /work-hmcomm/project/nedo2020_yokogawa/Git/yokogawa_ryamaguchi/nedo2020-yokogawass/script/RY_module/model/test_output/module_run_test.h5\n",
      "early_stop_count: 0/10\n",
      "epoch: 1\n",
      "Completed: [==============================] 100%  5/5 Epoch [2/100], train_loss: 5.1385, valid_loss: 4.9789\n",
      "Saving Model to /work-hmcomm/project/nedo2020_yokogawa/Git/yokogawa_ryamaguchi/nedo2020-yokogawass/script/RY_module/model/test_output/module_run_test.h5\n",
      "early_stop_count: 0/10\n",
      "epoch: 2\n",
      "Completed: [==============================] 100%  5/5 Epoch [3/100], train_loss: 2.5515, valid_loss: 1.8737\n",
      "Saving Model to /work-hmcomm/project/nedo2020_yokogawa/Git/yokogawa_ryamaguchi/nedo2020-yokogawass/script/RY_module/model/test_output/module_run_test.h5\n",
      "early_stop_count: 0/10\n",
      "epoch: 3\n",
      "Completed: [==============================] 100%  5/5 Epoch [4/100], train_loss: 0.7843, valid_loss: 0.4102\n",
      "Saving Model to /work-hmcomm/project/nedo2020_yokogawa/Git/yokogawa_ryamaguchi/nedo2020-yokogawass/script/RY_module/model/test_output/module_run_test.h5\n",
      "early_stop_count: 0/10\n",
      "epoch: 4\n",
      "Completed: [==============================] 100%  5/5 Epoch [5/100], train_loss: 0.3513, valid_loss: 1.0183\n",
      "early_stop_count: 1/10\n",
      "epoch: 5\n",
      "Completed: [==============================] 100%  5/5 Epoch [6/100], train_loss: 0.3108, valid_loss: 0.4163\n",
      "early_stop_count: 2/10\n",
      "epoch: 6\n",
      "Completed: [==============================] 100%  5/5 Epoch [7/100], train_loss: 0.0966, valid_loss: 0.2552\n",
      "Saving Model to /work-hmcomm/project/nedo2020_yokogawa/Git/yokogawa_ryamaguchi/nedo2020-yokogawass/script/RY_module/model/test_output/module_run_test.h5\n",
      "early_stop_count: 0/10\n",
      "epoch: 7\n",
      "Completed: [==============================] 100%  5/5 Epoch [8/100], train_loss: 0.1083, valid_loss: 0.1307\n",
      "Saving Model to /work-hmcomm/project/nedo2020_yokogawa/Git/yokogawa_ryamaguchi/nedo2020-yokogawass/script/RY_module/model/test_output/module_run_test.h5\n",
      "early_stop_count: 0/10\n",
      "epoch: 8\n",
      "Completed: [==============================] 100%  5/5 Epoch [9/100], train_loss: 0.0524, valid_loss: 0.1094\n",
      "Saving Model to /work-hmcomm/project/nedo2020_yokogawa/Git/yokogawa_ryamaguchi/nedo2020-yokogawass/script/RY_module/model/test_output/module_run_test.h5\n",
      "early_stop_count: 0/10\n",
      "epoch: 9\n",
      "Completed: [==============================] 100%  5/5 Epoch [10/100], train_loss: 0.0397, valid_loss: 0.1140\n",
      "early_stop_count: 1/10\n",
      "epoch: 10\n",
      "Completed: [==============================] 100%  5/5 Epoch [11/100], train_loss: 0.0270, valid_loss: 0.0296\n",
      "Saving Model to /work-hmcomm/project/nedo2020_yokogawa/Git/yokogawa_ryamaguchi/nedo2020-yokogawass/script/RY_module/model/test_output/module_run_test.h5\n",
      "early_stop_count: 0/10\n",
      "epoch: 11\n",
      "Completed: [==============================] 100%  5/5 Epoch [12/100], train_loss: 0.0132, valid_loss: 0.0207\n",
      "Saving Model to /work-hmcomm/project/nedo2020_yokogawa/Git/yokogawa_ryamaguchi/nedo2020-yokogawass/script/RY_module/model/test_output/module_run_test.h5\n",
      "early_stop_count: 0/10\n",
      "epoch: 12\n",
      "Completed: [==============================] 100%  5/5 Epoch [13/100], train_loss: 0.0131, valid_loss: 0.0105\n",
      "Saving Model to /work-hmcomm/project/nedo2020_yokogawa/Git/yokogawa_ryamaguchi/nedo2020-yokogawass/script/RY_module/model/test_output/module_run_test.h5\n",
      "early_stop_count: 0/10\n",
      "epoch: 13\n",
      "Completed: [==============================] 100%  5/5 Epoch [14/100], train_loss: 0.0091, valid_loss: 0.0086\n",
      "Saving Model to /work-hmcomm/project/nedo2020_yokogawa/Git/yokogawa_ryamaguchi/nedo2020-yokogawass/script/RY_module/model/test_output/module_run_test.h5\n",
      "early_stop_count: 0/10\n",
      "epoch: 14\n",
      "Completed: [==============================] 100%  5/5 Epoch [15/100], train_loss: 0.0067, valid_loss: 0.0274\n",
      "early_stop_count: 1/10\n",
      "epoch: 15\n",
      "Completed: [==============================] 100%  5/5 Epoch [16/100], train_loss: 0.0068, valid_loss: 0.0526\n",
      "early_stop_count: 2/10\n",
      "epoch: 16\n",
      "Completed: [==============================] 100%  5/5 Epoch [17/100], train_loss: 0.0055, valid_loss: 0.0302\n",
      "early_stop_count: 3/10\n",
      "epoch: 17\n",
      "Completed: [==============================] 100%  5/5 Epoch [18/100], train_loss: 0.0051, valid_loss: 0.0427\n",
      "early_stop_count: 4/10\n",
      "epoch: 18\n",
      "Completed: [==============================] 100%  5/5 Epoch [19/100], train_loss: 0.0055, valid_loss: 0.0077\n",
      "Saving Model to /work-hmcomm/project/nedo2020_yokogawa/Git/yokogawa_ryamaguchi/nedo2020-yokogawass/script/RY_module/model/test_output/module_run_test.h5\n",
      "early_stop_count: 0/10\n",
      "epoch: 19\n",
      "Completed: [==============================] 100%  5/5 Epoch [20/100], train_loss: 0.0059, valid_loss: 0.0154\n",
      "early_stop_count: 1/10\n",
      "epoch: 20\n",
      "Completed: [==============================] 100%  5/5 Epoch [21/100], train_loss: 0.0055, valid_loss: 0.0039\n",
      "Saving Model to /work-hmcomm/project/nedo2020_yokogawa/Git/yokogawa_ryamaguchi/nedo2020-yokogawass/script/RY_module/model/test_output/module_run_test.h5\n",
      "early_stop_count: 0/10\n",
      "epoch: 21\n",
      "Completed: [==============================] 100%  5/5 Epoch [22/100], train_loss: 0.0044, valid_loss: 0.0055\n",
      "early_stop_count: 1/10\n",
      "epoch: 22\n",
      "Completed: [==============================] 100%  5/5 Epoch [23/100], train_loss: 0.0036, valid_loss: 0.0036\n",
      "Saving Model to /work-hmcomm/project/nedo2020_yokogawa/Git/yokogawa_ryamaguchi/nedo2020-yokogawass/script/RY_module/model/test_output/module_run_test.h5\n",
      "early_stop_count: 0/10\n",
      "epoch: 23\n",
      "Completed: [==============================] 100%  5/5 Epoch [24/100], train_loss: 0.0040, valid_loss: 0.0044\n",
      "early_stop_count: 1/10\n",
      "epoch: 24\n",
      "Completed: [==============================] 100%  5/5 Epoch [25/100], train_loss: 0.0050, valid_loss: 0.0035\n",
      "Saving Model to /work-hmcomm/project/nedo2020_yokogawa/Git/yokogawa_ryamaguchi/nedo2020-yokogawass/script/RY_module/model/test_output/module_run_test.h5\n",
      "early_stop_count: 0/10\n",
      "epoch: 25\n",
      "Completed: [==============================] 100%  5/5 Epoch [26/100], train_loss: 0.0042, valid_loss: 0.0065\n",
      "early_stop_count: 1/10\n",
      "epoch: 26\n",
      "Completed: [==============================] 100%  5/5 Epoch [27/100], train_loss: 0.0040, valid_loss: 0.0045\n",
      "early_stop_count: 2/10\n",
      "epoch: 27\n",
      "Completed: [==============================] 100%  5/5 Epoch [28/100], train_loss: 0.0042, valid_loss: 0.0045\n",
      "early_stop_count: 3/10\n",
      "epoch: 28\n",
      "Completed: [==============================] 100%  5/5 Epoch [29/100], train_loss: 0.0035, valid_loss: 0.0031\n",
      "Saving Model to /work-hmcomm/project/nedo2020_yokogawa/Git/yokogawa_ryamaguchi/nedo2020-yokogawass/script/RY_module/model/test_output/module_run_test.h5\n",
      "early_stop_count: 0/10\n",
      "epoch: 29\n",
      "Completed: [==============================] 100%  5/5 Epoch [30/100], train_loss: 0.0038, valid_loss: 0.0064\n",
      "early_stop_count: 1/10\n",
      "epoch: 30\n",
      "Completed: [==============================] 100%  5/5 Epoch [31/100], train_loss: 0.0038, valid_loss: 0.0029\n",
      "Saving Model to /work-hmcomm/project/nedo2020_yokogawa/Git/yokogawa_ryamaguchi/nedo2020-yokogawass/script/RY_module/model/test_output/module_run_test.h5\n",
      "early_stop_count: 0/10\n",
      "epoch: 31\n",
      "Completed: [==============================] 100%  5/5 Epoch [32/100], train_loss: 0.0034, valid_loss: 0.0029\n",
      "Saving Model to /work-hmcomm/project/nedo2020_yokogawa/Git/yokogawa_ryamaguchi/nedo2020-yokogawass/script/RY_module/model/test_output/module_run_test.h5\n",
      "early_stop_count: 0/10\n",
      "epoch: 32\n",
      "Completed: [==============================] 100%  5/5 Epoch [33/100], train_loss: 0.0035, valid_loss: 0.0028\n",
      "Saving Model to /work-hmcomm/project/nedo2020_yokogawa/Git/yokogawa_ryamaguchi/nedo2020-yokogawass/script/RY_module/model/test_output/module_run_test.h5\n",
      "early_stop_count: 0/10\n",
      "epoch: 33\n",
      "Completed: [==============================] 100%  5/5 Epoch [34/100], train_loss: 0.0031, valid_loss: 0.0028\n",
      "Saving Model to /work-hmcomm/project/nedo2020_yokogawa/Git/yokogawa_ryamaguchi/nedo2020-yokogawass/script/RY_module/model/test_output/module_run_test.h5\n",
      "early_stop_count: 0/10\n",
      "epoch: 34\n",
      "Completed: [==============================] 100%  5/5 Epoch [35/100], train_loss: 0.0031, valid_loss: 0.0027\n",
      "Saving Model to /work-hmcomm/project/nedo2020_yokogawa/Git/yokogawa_ryamaguchi/nedo2020-yokogawass/script/RY_module/model/test_output/module_run_test.h5\n",
      "early_stop_count: 0/10\n",
      "epoch: 35\n",
      "Completed: [==============================] 100%  5/5 Epoch [36/100], train_loss: 0.0035, valid_loss: 0.0028\n",
      "early_stop_count: 1/10\n",
      "epoch: 36\n",
      "Completed: [==============================] 100%  5/5 Epoch [37/100], train_loss: 0.0031, valid_loss: 0.0041\n",
      "early_stop_count: 2/10\n",
      "epoch: 37\n",
      "Completed: [==============================] 100%  5/5 Epoch [38/100], train_loss: 0.0038, valid_loss: 0.0026\n",
      "Saving Model to /work-hmcomm/project/nedo2020_yokogawa/Git/yokogawa_ryamaguchi/nedo2020-yokogawass/script/RY_module/model/test_output/module_run_test.h5\n",
      "early_stop_count: 0/10\n",
      "epoch: 38\n",
      "Completed: [==============================] 100%  5/5 Epoch [39/100], train_loss: 0.0030, valid_loss: 0.0033\n",
      "early_stop_count: 1/10\n",
      "epoch: 39\n",
      "Completed: [==============================] 100%  5/5 Epoch [40/100], train_loss: 0.0032, valid_loss: 0.0054\n",
      "early_stop_count: 2/10\n",
      "epoch: 40\n",
      "Completed: [==============================] 100%  5/5 Epoch [41/100], train_loss: 0.0037, valid_loss: 0.0024\n",
      "Saving Model to /work-hmcomm/project/nedo2020_yokogawa/Git/yokogawa_ryamaguchi/nedo2020-yokogawass/script/RY_module/model/test_output/module_run_test.h5\n",
      "early_stop_count: 0/10\n",
      "epoch: 41\n",
      "Completed: [==============================] 100%  5/5 Epoch [42/100], train_loss: 0.0049, valid_loss: 0.0089\n",
      "early_stop_count: 1/10\n",
      "epoch: 42\n",
      "Completed: [==============================] 100%  5/5 Epoch [43/100], train_loss: 0.0051, valid_loss: 0.0027\n",
      "early_stop_count: 2/10\n",
      "epoch: 43\n",
      "Completed: [==============================] 100%  5/5 Epoch [44/100], train_loss: 0.0034, valid_loss: 0.0035\n",
      "early_stop_count: 3/10\n",
      "epoch: 44\n",
      "Completed: [==============================] 100%  5/5 Epoch [45/100], train_loss: 0.0043, valid_loss: 0.0023\n",
      "Saving Model to /work-hmcomm/project/nedo2020_yokogawa/Git/yokogawa_ryamaguchi/nedo2020-yokogawass/script/RY_module/model/test_output/module_run_test.h5\n",
      "early_stop_count: 0/10\n",
      "epoch: 45\n",
      "Completed: [==============================] 100%  5/5 Epoch [46/100], train_loss: 0.0030, valid_loss: 0.0123\n",
      "early_stop_count: 1/10\n",
      "epoch: 46\n",
      "Completed: [==============================] 100%  5/5 Epoch [47/100], train_loss: 0.0029, valid_loss: 0.0034\n",
      "early_stop_count: 2/10\n",
      "epoch: 47\n",
      "Completed: [==============================] 100%  5/5 Epoch [48/100], train_loss: 0.0032, valid_loss: 0.0036\n",
      "early_stop_count: 3/10\n",
      "epoch: 48\n",
      "Completed: [==============================] 100%  5/5 Epoch [49/100], train_loss: 0.0037, valid_loss: 0.0023\n",
      "Saving Model to /work-hmcomm/project/nedo2020_yokogawa/Git/yokogawa_ryamaguchi/nedo2020-yokogawass/script/RY_module/model/test_output/module_run_test.h5\n",
      "early_stop_count: 0/10\n",
      "epoch: 49\n",
      "Completed: [==============================] 100%  5/5 Epoch [50/100], train_loss: 0.0025, valid_loss: 0.0063\n",
      "early_stop_count: 1/10\n",
      "epoch: 50\n",
      "Completed: [==============================] 100%  5/5 Epoch [51/100], train_loss: 0.0032, valid_loss: 0.0048\n",
      "early_stop_count: 2/10\n",
      "epoch: 51\n",
      "Completed: [==============================] 100%  5/5 Epoch [52/100], train_loss: 0.0031, valid_loss: 0.0042\n",
      "early_stop_count: 3/10\n",
      "epoch: 52\n",
      "Completed: [==============================] 100%  5/5 Epoch [53/100], train_loss: 0.0028, valid_loss: 0.0022\n",
      "Saving Model to /work-hmcomm/project/nedo2020_yokogawa/Git/yokogawa_ryamaguchi/nedo2020-yokogawass/script/RY_module/model/test_output/module_run_test.h5\n",
      "early_stop_count: 0/10\n",
      "epoch: 53\n",
      "Completed: [==============================] 100%  5/5 Epoch [54/100], train_loss: 0.0025, valid_loss: 0.0025\n",
      "early_stop_count: 1/10\n",
      "epoch: 54\n",
      "Completed: [==============================] 100%  5/5 Epoch [55/100], train_loss: 0.0024, valid_loss: 0.0040\n",
      "early_stop_count: 2/10\n",
      "epoch: 55\n",
      "Completed: [==============================] 100%  5/5 Epoch [56/100], train_loss: 0.0028, valid_loss: 0.0030\n",
      "early_stop_count: 3/10\n",
      "epoch: 56\n",
      "Completed: [==============================] 100%  5/5 Epoch [57/100], train_loss: 0.0027, valid_loss: 0.0023\n",
      "early_stop_count: 4/10\n",
      "epoch: 57\n",
      "Completed: [==============================] 100%  5/5 Epoch [58/100], train_loss: 0.0042, valid_loss: 0.0019\n",
      "Saving Model to /work-hmcomm/project/nedo2020_yokogawa/Git/yokogawa_ryamaguchi/nedo2020-yokogawass/script/RY_module/model/test_output/module_run_test.h5\n",
      "early_stop_count: 0/10\n",
      "epoch: 58\n",
      "Completed: [==============================] 100%  5/5 Epoch [59/100], train_loss: 0.0023, valid_loss: 0.0058\n",
      "early_stop_count: 1/10\n",
      "epoch: 59\n",
      "Completed: [==============================] 100%  5/5 Epoch [60/100], train_loss: 0.0020, valid_loss: 0.0019\n",
      "early_stop_count: 2/10\n",
      "epoch: 60\n",
      "Completed: [==============================] 100%  5/5 Epoch [61/100], train_loss: 0.0028, valid_loss: 0.0019\n",
      "Saving Model to /work-hmcomm/project/nedo2020_yokogawa/Git/yokogawa_ryamaguchi/nedo2020-yokogawass/script/RY_module/model/test_output/module_run_test.h5\n",
      "early_stop_count: 0/10\n",
      "epoch: 61\n",
      "Completed: [==============================] 100%  5/5 Epoch [62/100], train_loss: 0.0032, valid_loss: 0.0021\n",
      "early_stop_count: 1/10\n",
      "epoch: 62\n",
      "Completed: [==============================] 100%  5/5 Epoch [63/100], train_loss: 0.0044, valid_loss: 0.0023\n",
      "early_stop_count: 2/10\n",
      "epoch: 63\n",
      "Completed: [==============================] 100%  5/5 Epoch [64/100], train_loss: 0.0032, valid_loss: 0.0021\n",
      "early_stop_count: 3/10\n",
      "epoch: 64\n",
      "Completed: [==============================] 100%  5/5 Epoch [65/100], train_loss: 0.0024, valid_loss: 0.0029\n",
      "early_stop_count: 4/10\n",
      "epoch: 65\n",
      "Completed: [==============================] 100%  5/5 Epoch [66/100], train_loss: 0.0033, valid_loss: 0.0044\n",
      "early_stop_count: 5/10\n",
      "epoch: 66\n",
      "Completed: [==============================] 100%  5/5 Epoch [67/100], train_loss: 0.0033, valid_loss: 0.0084\n",
      "early_stop_count: 6/10\n",
      "epoch: 67\n",
      "Completed: [==============================] 100%  5/5 Epoch [68/100], train_loss: 0.0031, valid_loss: 0.0093\n",
      "early_stop_count: 7/10\n",
      "epoch: 68\n",
      "Completed: [==============================] 100%  5/5 Epoch [69/100], train_loss: 0.0024, valid_loss: 0.0020\n",
      "early_stop_count: 8/10\n",
      "epoch: 69\n",
      "Completed: [==============================] 100%  5/5 Epoch [70/100], train_loss: 0.0018, valid_loss: 0.0028\n",
      "early_stop_count: 9/10\n",
      "epoch: 70\n",
      "Completed: [==============================] 100%  5/5 Epoch [71/100], train_loss: 0.0038, valid_loss: 0.0018\n",
      "Saving Model to /work-hmcomm/project/nedo2020_yokogawa/Git/yokogawa_ryamaguchi/nedo2020-yokogawass/script/RY_module/model/test_output/module_run_test.h5\n",
      "early_stop_count: 0/10\n",
      "epoch: 71\n",
      "Completed: [==============================] 100%  5/5 Epoch [72/100], train_loss: 0.0043, valid_loss: 0.0022\n",
      "early_stop_count: 1/10\n",
      "epoch: 72\n",
      "Completed: [==============================] 100%  5/5 Epoch [73/100], train_loss: 0.0038, valid_loss: 0.0026\n",
      "early_stop_count: 2/10\n",
      "epoch: 73\n",
      "Completed: [==============================] 100%  5/5 Epoch [74/100], train_loss: 0.0037, valid_loss: 0.0095\n",
      "early_stop_count: 3/10\n",
      "epoch: 74\n",
      "Completed: [==============================] 100%  5/5 Epoch [75/100], train_loss: 0.0027, valid_loss: 0.0021\n",
      "early_stop_count: 4/10\n",
      "epoch: 75\n",
      "Completed: [==============================] 100%  5/5 Epoch [76/100], train_loss: 0.0025, valid_loss: 0.0024\n",
      "early_stop_count: 5/10\n",
      "epoch: 76\n",
      "Completed: [==============================] 100%  5/5 Epoch [77/100], train_loss: 0.0019, valid_loss: 0.0018\n",
      "Saving Model to /work-hmcomm/project/nedo2020_yokogawa/Git/yokogawa_ryamaguchi/nedo2020-yokogawass/script/RY_module/model/test_output/module_run_test.h5\n",
      "early_stop_count: 0/10\n",
      "epoch: 77\n",
      "Completed: [==============================] 100%  5/5 Epoch [78/100], train_loss: 0.0017, valid_loss: 0.0026\n",
      "early_stop_count: 1/10\n",
      "epoch: 78\n",
      "Completed: [==============================] 100%  5/5 Epoch [79/100], train_loss: 0.0020, valid_loss: 0.0024\n",
      "early_stop_count: 2/10\n",
      "epoch: 79\n",
      "Completed: [==============================] 100%  5/5 Epoch [80/100], train_loss: 0.0023, valid_loss: 0.0018\n",
      "Saving Model to /work-hmcomm/project/nedo2020_yokogawa/Git/yokogawa_ryamaguchi/nedo2020-yokogawass/script/RY_module/model/test_output/module_run_test.h5\n",
      "early_stop_count: 0/10\n",
      "epoch: 80\n",
      "Completed: [==============================] 100%  5/5 Epoch [81/100], train_loss: 0.0024, valid_loss: 0.0027\n",
      "early_stop_count: 1/10\n",
      "epoch: 81\n",
      "Completed: [==============================] 100%  5/5 Epoch [82/100], train_loss: 0.0022, valid_loss: 0.0052\n",
      "early_stop_count: 2/10\n",
      "epoch: 82\n",
      "Completed: [==============================] 100%  5/5 Epoch [83/100], train_loss: 0.0036, valid_loss: 0.0017\n",
      "Saving Model to /work-hmcomm/project/nedo2020_yokogawa/Git/yokogawa_ryamaguchi/nedo2020-yokogawass/script/RY_module/model/test_output/module_run_test.h5\n",
      "early_stop_count: 0/10\n",
      "epoch: 83\n",
      "Completed: [==============================] 100%  5/5 Epoch [84/100], train_loss: 0.0028, valid_loss: 0.0037\n",
      "early_stop_count: 1/10\n",
      "epoch: 84\n",
      "Completed: [==============================] 100%  5/5 Epoch [85/100], train_loss: 0.0018, valid_loss: 0.0017\n",
      "early_stop_count: 2/10\n",
      "epoch: 85\n",
      "Completed: [==============================] 100%  5/5 Epoch [86/100], train_loss: 0.0021, valid_loss: 0.0017\n",
      "early_stop_count: 3/10\n",
      "epoch: 86\n",
      "Completed: [==============================] 100%  5/5 Epoch [87/100], train_loss: 0.0024, valid_loss: 0.0026\n",
      "early_stop_count: 4/10\n",
      "epoch: 87\n",
      "Completed: [==============================] 100%  5/5 Epoch [88/100], train_loss: 0.0017, valid_loss: 0.0017\n",
      "early_stop_count: 5/10\n",
      "epoch: 88\n",
      "Completed: [==============================] 100%  5/5 Epoch [89/100], train_loss: 0.0018, valid_loss: 0.0019\n",
      "early_stop_count: 6/10\n",
      "epoch: 89\n",
      "Completed: [==============================] 100%  5/5 Epoch [90/100], train_loss: 0.0024, valid_loss: 0.0042\n",
      "early_stop_count: 7/10\n",
      "epoch: 90\n",
      "Completed: [==============================] 100%  5/5 Epoch [91/100], train_loss: 0.0036, valid_loss: 0.0017\n",
      "early_stop_count: 8/10\n",
      "epoch: 91\n",
      "Completed: [==============================] 100%  5/5 Epoch [92/100], train_loss: 0.0029, valid_loss: 0.0021\n",
      "early_stop_count: 9/10\n",
      "epoch: 92\n",
      "Completed: [==============================] 100%  5/5 Epoch [93/100], train_loss: 0.0046, valid_loss: 0.0190\n",
      "early_stop_count: 10/10\n",
      "epoch: 93\n",
      "Early Stopping\n"
     ]
    }
   ],
   "source": [
    "model.fit(train_left_arr_list, train_flow_arr_list)"
   ]
  },
  {
   "cell_type": "code",
   "execution_count": 15,
   "metadata": {},
   "outputs": [
    {
     "data": {
      "image/png": "[encoded data removed]",
      "text/plain": [
       "<Figure size 720x288 with 1 Axes>"
      ]
     },
     "metadata": {
      "needs_background": "light"
     },
     "output_type": "display_data"
    }
   ],
   "source": [
    "model.plot_learnig_curve()"
   ]
  },
  {
   "cell_type": "markdown",
   "metadata": {},
   "source": [
    "# 学習データに対してpredict"
   ]
  },
  {
   "cell_type": "code",
   "execution_count": 16,
   "metadata": {},
   "outputs": [
    {
     "name": "stdout",
     "output_type": "stream",
     "text": [
      "Loading Weights\n"
     ]
    }
   ],
   "source": [
    "y_pred, y_test = model.predict(train_left_arr_list[0], train_flow_arr_list[0])"
   ]
  },
  {
   "cell_type": "code",
   "execution_count": 17,
   "metadata": {},
   "outputs": [
    {
     "data": {
      "text/plain": [
       "[<matplotlib.lines.Line2D at 0x7fef6ab6ad68>]"
      ]
     },
     "execution_count": 17,
     "metadata": {},
     "output_type": "execute_result"
    },
    {
     "data": {
      "image/png": "[encoded data removed]",
      "text/plain": [
       "<Figure size 432x288 with 1 Axes>"
      ]
     },
     "metadata": {
      "needs_background": "light"
     },
     "output_type": "display_data"
    }
   ],
   "source": [
    "plt.plot(y_pred)\n",
    "plt.plot(y_test)"
   ]
  },
  {
   "cell_type": "markdown",
   "metadata": {},
   "source": [
    "# テストデータに対してpredict"
   ]
  },
  {
   "cell_type": "markdown",
   "metadata": {},
   "source": [
    "1m/s"
   ]
  },
  {
   "cell_type": "code",
   "execution_count": 18,
   "metadata": {},
   "outputs": [
    {
     "name": "stdout",
     "output_type": "stream",
     "text": [
      "Loading Weights\n"
     ]
    }
   ],
   "source": [
    "y_1_pred, y_1_test = model.predict(test_1_left_arr_list[0], test_1_flow_arr_list[0])"
   ]
  },
  {
   "cell_type": "code",
   "execution_count": 19,
   "metadata": {},
   "outputs": [
    {
     "data": {
      "text/plain": [
       "(0.5, 4.5)"
      ]
     },
     "execution_count": 19,
     "metadata": {},
     "output_type": "execute_result"
    },
    {
     "data": {
      "image/png": "[encoded data removed]",
      "text/plain": [
       "<Figure size 432x288 with 1 Axes>"
      ]
     },
     "metadata": {
      "needs_background": "light"
     },
     "output_type": "display_data"
    }
   ],
   "source": [
    "plt.plot(y_1_pred)\n",
    "plt.plot(y_1_test)\n",
    "plt.ylim(0.5, 4.5)"
   ]
  },
  {
   "cell_type": "markdown",
   "metadata": {},
   "source": [
    "2m/s"
   ]
  },
  {
   "cell_type": "code",
   "execution_count": 20,
   "metadata": {},
   "outputs": [
    {
     "name": "stdout",
     "output_type": "stream",
     "text": [
      "Loading Weights\n"
     ]
    }
   ],
   "source": [
    "y_2_pred, y_2_test = model.predict(test_2_left_arr_list[0], test_2_flow_arr_list[0])"
   ]
  },
  {
   "cell_type": "code",
   "execution_count": 21,
   "metadata": {},
   "outputs": [
    {
     "data": {
      "text/plain": [
       "(0.5, 4.5)"
      ]
     },
     "execution_count": 21,
     "metadata": {},
     "output_type": "execute_result"
    },
    {
     "data": {
      "image/png": "[encoded data removed]",
      "text/plain": [
       "<Figure size 432x288 with 1 Axes>"
      ]
     },
     "metadata": {
      "needs_background": "light"
     },
     "output_type": "display_data"
    }
   ],
   "source": [
    "plt.plot(y_2_pred)\n",
    "plt.plot(y_2_test)\n",
    "plt.ylim(0.5, 4.5)"
   ]
  },
  {
   "cell_type": "markdown",
   "metadata": {},
   "source": [
    "3m/s"
   ]
  },
  {
   "cell_type": "code",
   "execution_count": 22,
   "metadata": {},
   "outputs": [
    {
     "name": "stdout",
     "output_type": "stream",
     "text": [
      "Loading Weights\n"
     ]
    }
   ],
   "source": [
    "y_3_pred, y_3_test = model.predict(test_3_left_arr_list[0], test_3_flow_arr_list[0])"
   ]
  },
  {
   "cell_type": "code",
   "execution_count": 23,
   "metadata": {},
   "outputs": [
    {
     "data": {
      "text/plain": [
       "(0.5, 4.5)"
      ]
     },
     "execution_count": 23,
     "metadata": {},
     "output_type": "execute_result"
    },
    {
     "data": {
      "image/png": "[encoded data removed]",
      "text/plain": [
       "<Figure size 432x288 with 1 Axes>"
      ]
     },
     "metadata": {
      "needs_background": "light"
     },
     "output_type": "display_data"
    }
   ],
   "source": [
    "plt.plot(y_3_pred)\n",
    "plt.plot(y_3_test)\n",
    "plt.ylim(0.5, 4.5)"
   ]
  },
  {
   "cell_type": "markdown",
   "metadata": {},
   "source": [
    "3.9m/s"
   ]
  },
  {
   "cell_type": "code",
   "execution_count": 24,
   "metadata": {},
   "outputs": [
    {
     "name": "stdout",
     "output_type": "stream",
     "text": [
      "Loading Weights\n"
     ]
    }
   ],
   "source": [
    "y_max_pred, y_max_test = model.predict(test_max_left_arr_list[0], test_max_flow_arr_list[0])"
   ]
  },
  {
   "cell_type": "code",
   "execution_count": 25,
   "metadata": {},
   "outputs": [
    {
     "data": {
      "text/plain": [
       "(0.5, 4.5)"
      ]
     },
     "execution_count": 25,
     "metadata": {},
     "output_type": "execute_result"
    },
    {
     "data": {
      "image/png": "[encoded data removed]",
      "text/plain": [
       "<Figure size 432x288 with 1 Axes>"
      ]
     },
     "metadata": {
      "needs_background": "light"
     },
     "output_type": "display_data"
    }
   ],
   "source": [
    "plt.plot(y_max_pred)\n",
    "plt.plot(y_max_test)\n",
    "plt.ylim(0.5, 4.5)"
   ]
  },
  {
   "cell_type": "code",
   "execution_count": 26,
   "metadata": {},
   "outputs": [],
   "source": [
    "predict_array = np.array([(y_1_pred, y_1_test),\n",
    "                          (y_2_pred, y_2_test),\n",
    "                          (y_3_pred, y_3_test),\n",
    "                          (y_max_pred, y_max_test)])"
   ]
  },
  {
   "cell_type": "code",
   "execution_count": 27,
   "metadata": {},
   "outputs": [
    {
     "name": "stdout",
     "output_type": "stream",
     "text": [
      "MAPE score : 4.06\n",
      "MAAPE score : 4.05\n",
      "MAPE score : 3.6\n",
      "MAAPE score : 3.59\n",
      "MAPE score : 5.82\n",
      "MAAPE score : 5.81\n",
      "MAPE score : 2.24\n",
      "MAAPE score : 2.24\n"
     ]
    }
   ],
   "source": [
    "scores = np.array([model.calc_score(i[0], i[1]) for i in predict_array])"
   ]
  },
  {
   "cell_type": "code",
   "execution_count": 28,
   "metadata": {},
   "outputs": [
    {
     "data": {
      "text/plain": [
       "array([[4.06, 4.05],\n",
       "       [3.6 , 3.59],\n",
       "       [5.82, 5.81],\n",
       "       [2.24, 2.24]])"
      ]
     },
     "execution_count": 28,
     "metadata": {},
     "output_type": "execute_result"
    }
   ],
   "source": [
    "scores"
   ]
  },
  {
   "cell_type": "code",
   "execution_count": 29,
   "metadata": {},
   "outputs": [
    {
     "name": "stdout",
     "output_type": "stream",
     "text": [
      "MAPE mean : 3.93\n",
      "MAAPE mean : 3.92\n"
     ]
    },
    {
     "data": {
      "text/html": [
       "<div>\n",
       "<style scoped>\n",
       "    .dataframe tbody tr th:only-of-type {\n",
       "        vertical-align: middle;\n",
       "    }\n",
       "\n",
       "    .dataframe tbody tr th {\n",
       "        vertical-align: top;\n",
       "    }\n",
       "\n",
       "    .dataframe thead th {\n",
       "        text-align: right;\n",
       "    }\n",
       "</style>\n",
       "<table border=\"1\" class=\"dataframe\">\n",
       "  <thead>\n",
       "    <tr style=\"text-align: right;\">\n",
       "      <th></th>\n",
       "      <th>MAPE</th>\n",
       "      <th>MAAPE</th>\n",
       "    </tr>\n",
       "  </thead>\n",
       "  <tbody>\n",
       "    <tr>\n",
       "      <th>1.0</th>\n",
       "      <td>4.06</td>\n",
       "      <td>4.0500</td>\n",
       "    </tr>\n",
       "    <tr>\n",
       "      <th>2.0</th>\n",
       "      <td>3.60</td>\n",
       "      <td>3.5900</td>\n",
       "    </tr>\n",
       "    <tr>\n",
       "      <th>3.0</th>\n",
       "      <td>5.82</td>\n",
       "      <td>5.8100</td>\n",
       "    </tr>\n",
       "    <tr>\n",
       "      <th>3.9</th>\n",
       "      <td>2.24</td>\n",
       "      <td>2.2400</td>\n",
       "    </tr>\n",
       "    <tr>\n",
       "      <th>mean</th>\n",
       "      <td>3.93</td>\n",
       "      <td>3.9225</td>\n",
       "    </tr>\n",
       "  </tbody>\n",
       "</table>\n",
       "</div>"
      ],
      "text/plain": [
       "      MAPE   MAAPE\n",
       "1.0   4.06  4.0500\n",
       "2.0   3.60  3.5900\n",
       "3.0   5.82  5.8100\n",
       "3.9   2.24  2.2400\n",
       "mean  3.93  3.9225"
      ]
     },
     "execution_count": 29,
     "metadata": {},
     "output_type": "execute_result"
    },
    {
     "data": {
      "image/png": "[encoded data removed]",
      "text/plain": [
       "<Figure size 720x288 with 2 Axes>"
      ]
     },
     "metadata": {
      "needs_background": "light"
     },
     "output_type": "display_data"
    }
   ],
   "source": [
    "model.visualize_score(scores, model.save_path)"
   ]
  },
  {
   "cell_type": "code",
   "execution_count": null,
   "metadata": {},
   "outputs": [],
   "source": []
  }
 ],
 "metadata": {
  "kernelspec": {
   "display_name": "Python 3",
   "language": "python",
   "name": "python3"
  },
  "language_info": {
   "codemirror_mode": {
    "name": "ipython",
    "version": 2
   },
   "file_extension": ".py",
   "mimetype": "text/x-python",
   "name": "python",
   "nbconvert_exporter": "python",
   "pygments_lexer": "ipython2",
   "version": "2.7.15+"
  }
 },
 "nbformat": 4,
 "nbformat_minor": 4
}
